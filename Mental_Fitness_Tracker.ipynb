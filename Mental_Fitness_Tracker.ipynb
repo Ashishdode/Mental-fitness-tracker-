{
  "cells": [
    {
      "cell_type": "markdown",
      "metadata": {
        "id": "zhO8OPiGFNEl"
      },
      "source": [
        "## **IMPORT DATA**"
      ]
    },
    {
      "cell_type": "code",
      "execution_count": null,
      "metadata": {
        "id": "vKAnI4cZFIDy"
      },
      "outputs": [],
      "source": [
        "import tensorflow as tf\n",
        "import pandas as pd\n",
        "import numpy as np\n",
        "from sklearn.model_selection import train_test_split\n",
        "import seaborn as sns\n",
        "from sklearn.preprocessing import StandardScaler\n",
        "import matplotlib.pyplot as plt\n",
        "from sklearn.ensemble import RandomForestRegressor\n",
        "import sklearn\n"
      ]
    },
    {
      "cell_type": "markdown",
      "metadata": {
        "id": "juDXvc7YF4nt"
      },
      "source": [
        "## **READING DATA**"
      ]
    },
    {
      "cell_type": "code",
      "source": [
        "from google.colab import drive\n",
        "drive.mount('/content/drive')"
      ],
      "metadata": {
        "colab": {
          "base_uri": "https://localhost:8080/"
        },
        "id": "W8A6ZgezxsNc",
        "outputId": "cd56b84e-6d57-4ca2-b1fa-747e811fba1c"
      },
      "execution_count": null,
      "outputs": [
        {
          "output_type": "stream",
          "name": "stdout",
          "text": [
            "Drive already mounted at /content/drive; to attempt to forcibly remount, call drive.mount(\"/content/drive\", force_remount=True).\n"
          ]
        }
      ]
    },
    {
      "cell_type": "code",
      "execution_count": null,
      "metadata": {
        "id": "0VKzovxWF4U4"
      },
      "outputs": [],
      "source": [
        "df1=pd.read_csv(\"/content/drive/MyDrive/Data Sets/mental-and-substance-use-as-share-of-disease.csv\")\n",
        "df2=pd.read_csv(\"/content/drive/MyDrive/Data Sets/prevalence-by-mental-and-substance-use-disorder.csv\")"
      ]
    },
    {
      "cell_type": "markdown",
      "source": [
        "## **DATA VISUALIZATION**"
      ],
      "metadata": {
        "id": "sZkPEKhXz2Cu"
      }
    },
    {
      "cell_type": "code",
      "source": [
        "corr=df.corr()\n",
        "plt.figure(figsize=(15,12))\n",
        "sns.pairplot(df[['Prevalence - Schizophrenia - Sex: Both - Age: Age-standardized (Percent)',\n",
        "       'Prevalence - Bipolar disorder - Sex: Both - Age: Age-standardized (Percent)',\n",
        "       'Prevalence - Eating disorders - Sex: Both - Age: Age-standardized (Percent)',\n",
        "       'Prevalence - Anxiety disorders - Sex: Both - Age: Age-standardized (Percent)',\n",
        "       'Prevalence - Drug use disorders - Sex: Both - Age: Age-standardized (Percent)',\n",
        "       'Prevalence - Depressive disorders - Sex: Both - Age: Age-standardized (Percent)',]])"
      ],
      "metadata": {
        "id": "8IorJUJKz4qe"
      },
      "execution_count": null,
      "outputs": []
    },
    {
      "cell_type": "code",
      "source": [
        "plt.figure(figsize=(15,12))\n",
        "sns.heatmap(corr)"
      ],
      "metadata": {
        "id": "wKvJSiTe0DKH"
      },
      "execution_count": null,
      "outputs": []
    },
    {
      "cell_type": "markdown",
      "source": [
        "## **DATA PREPROCESSING**"
      ],
      "metadata": {
        "id": "VK8TDP27vdd8"
      }
    },
    {
      "cell_type": "code",
      "execution_count": null,
      "metadata": {
        "id": "T91vcWG-GWXH"
      },
      "outputs": [],
      "source": [
        "df.drop(['Entity','Code','Year'],axis=1,inplace=True)\n",
        "df=df.fillna(df.mean())\n",
        "\n",
        "x=df[['Prevalence - Schizophrenia - Sex: Both - Age: Age-standardized (Percent)',\n",
        "       'Prevalence - Bipolar disorder - Sex: Both - Age: Age-standardized (Percent)',\n",
        "       'Prevalence - Eating disorders - Sex: Both - Age: Age-standardized (Percent)',\n",
        "       'Prevalence - Anxiety disorders - Sex: Both - Age: Age-standardized (Percent)',\n",
        "       'Prevalence - Drug use disorders - Sex: Both - Age: Age-standardized (Percent)',\n",
        "       'Prevalence - Depressive disorders - Sex: Both - Age: Age-standardized (Percent)',]].to_numpy()\n",
        "\n",
        "y=df[['DALYs (Disability-Adjusted Life Years) - Mental disorders - Sex: Both - Age: All Ages (Percent)']].to_numpy()"
      ]
    },
    {
      "cell_type": "code",
      "execution_count": null,
      "metadata": {
        "id": "oevg4UXRJaTR"
      },
      "outputs": [],
      "source": [
        "scaler=StandardScaler()\n",
        "x=scaler.fit_transform(x)\n",
        "\n",
        "x_train,x_test,y_train,y_test=train_test_split(x,y)"
      ]
    },
    {
      "cell_type": "markdown",
      "source": [
        "## **ML IMPLEMENTATION**"
      ],
      "metadata": {
        "id": "ZG270LWXvwWN"
      }
    },
    {
      "cell_type": "code",
      "execution_count": null,
      "metadata": {
        "id": "9DVcoiSlJM0C",
        "colab": {
          "base_uri": "https://localhost:8080/"
        },
        "outputId": "e8e8ecfc-58dc-4069-c566-c70b0a7f4598"
      },
      "outputs": [
        {
          "output_type": "stream",
          "name": "stderr",
          "text": [
            "<ipython-input-16-bfcd872d59c9>:2: DataConversionWarning: A column-vector y was passed when a 1d array was expected. Please change the shape of y to (n_samples,), for example using ravel().\n",
            "  ml.fit(x_train,y_train)\n"
          ]
        }
      ],
      "source": [
        "ml=RandomForestRegressor()\n",
        "ml.fit(x_train,y_train)\n",
        "predicted_values=ml.predict(x_test)"
      ]
    },
    {
      "cell_type": "markdown",
      "source": [
        "## **MODEL EVALUATION AND METRICS**"
      ],
      "metadata": {
        "id": "lw2grCZnv62-"
      }
    },
    {
      "cell_type": "code",
      "execution_count": null,
      "metadata": {
        "id": "T73m7Jo4KEBa"
      },
      "outputs": [],
      "source": [
        "plt.figure(figsize=(15,12))\n",
        "plt.plot(y_test[:100])\n",
        "plt.plot(predicted_values[:100])\n",
        "plt.legend(['true','predicted'])\n",
        "plt.title('Mean Square Error '+str(sklearn.metrics.mean_squared_error(y_test,predicted_values)))\n",
        "plt.show()"
      ]
    }
  ],
  "metadata": {
    "colab": {
      "provenance": []
    },
    "kernelspec": {
      "display_name": "Python 3",
      "name": "python3"
    },
    "language_info": {
      "name": "python"
    }
  },
  "nbformat": 4,
  "nbformat_minor": 0
}